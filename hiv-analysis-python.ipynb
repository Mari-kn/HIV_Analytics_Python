{
 "cells": [
  {
   "cell_type": "code",
   "execution_count": 1,
   "id": "36539c1c",
   "metadata": {
    "execution": {
     "iopub.execute_input": "2024-07-11T18:06:11.001891Z",
     "iopub.status.busy": "2024-07-11T18:06:11.000736Z",
     "iopub.status.idle": "2024-07-11T18:06:12.126511Z",
     "shell.execute_reply": "2024-07-11T18:06:12.125136Z"
    },
    "papermill": {
     "duration": 1.13752,
     "end_time": "2024-07-11T18:06:12.129601",
     "exception": false,
     "start_time": "2024-07-11T18:06:10.992081",
     "status": "completed"
    },
    "tags": []
   },
   "outputs": [],
   "source": [
    "import pandas as pd\n",
    "import seaborn as se\n",
    "import numpy as np\n",
    "import matplotlib.pyplot as plt\n",
    "from datetime import datetime"
   ]
  },
  {
   "cell_type": "code",
   "execution_count": 2,
   "id": "97a506ad",
   "metadata": {
    "execution": {
     "iopub.execute_input": "2024-07-11T18:06:12.144294Z",
     "iopub.status.busy": "2024-07-11T18:06:12.143185Z",
     "iopub.status.idle": "2024-07-11T18:06:12.251754Z",
     "shell.execute_reply": "2024-07-11T18:06:12.249896Z"
    },
    "papermill": {
     "duration": 0.118557,
     "end_time": "2024-07-11T18:06:12.254358",
     "exception": true,
     "start_time": "2024-07-11T18:06:12.135801",
     "status": "failed"
    },
    "tags": []
   },
   "outputs": [
    {
     "ename": "FileNotFoundError",
     "evalue": "[Errno 2] No such file or directory: 'HIV_Epidemiology_Children_Adolescents_2022.xlsx'",
     "output_type": "error",
     "traceback": [
      "\u001b[0;31m---------------------------------------------------------------------------\u001b[0m",
      "\u001b[0;31mFileNotFoundError\u001b[0m                         Traceback (most recent call last)",
      "\u001b[0;32m/tmp/ipykernel_19/2637634797.py\u001b[0m in \u001b[0;36m<module>\u001b[0;34m\u001b[0m\n\u001b[0;32m----> 1\u001b[0;31m \u001b[0mEpid_DF\u001b[0m\u001b[0;34m=\u001b[0m\u001b[0mpd\u001b[0m\u001b[0;34m.\u001b[0m\u001b[0mread_excel\u001b[0m\u001b[0;34m(\u001b[0m\u001b[0;34m\"HIV_Epidemiology_Children_Adolescents_2022.xlsx\"\u001b[0m\u001b[0;34m,\u001b[0m \u001b[0msheet_name\u001b[0m\u001b[0;34m=\u001b[0m\u001b[0;34m\"Data\"\u001b[0m\u001b[0;34m,\u001b[0m\u001b[0mskiprows\u001b[0m\u001b[0;34m=\u001b[0m\u001b[0;36m1\u001b[0m\u001b[0;34m,\u001b[0m\u001b[0mparse_dates\u001b[0m\u001b[0;34m=\u001b[0m\u001b[0;32mTrue\u001b[0m\u001b[0;34m)\u001b[0m\u001b[0;34m\u001b[0m\u001b[0;34m\u001b[0m\u001b[0m\n\u001b[0m\u001b[1;32m      2\u001b[0m \u001b[0mprint\u001b[0m\u001b[0;34m(\u001b[0m\u001b[0mEpid_DF\u001b[0m\u001b[0;34m.\u001b[0m\u001b[0mshape\u001b[0m\u001b[0;34m)\u001b[0m\u001b[0;34m\u001b[0m\u001b[0;34m\u001b[0m\u001b[0m\n\u001b[1;32m      3\u001b[0m \u001b[0mEpid_DF\u001b[0m\u001b[0;34m.\u001b[0m\u001b[0mdrop_duplicates\u001b[0m\u001b[0;34m(\u001b[0m\u001b[0minplace\u001b[0m\u001b[0;34m=\u001b[0m\u001b[0;32mTrue\u001b[0m\u001b[0;34m)\u001b[0m\u001b[0;34m\u001b[0m\u001b[0;34m\u001b[0m\u001b[0m\n\u001b[1;32m      4\u001b[0m \u001b[0mEpid_DF\u001b[0m\u001b[0;34m=\u001b[0m\u001b[0mEpid_DF\u001b[0m\u001b[0;34m[\u001b[0m\u001b[0;34m[\u001b[0m\u001b[0;34m\"Type\"\u001b[0m\u001b[0;34m,\u001b[0m\u001b[0;34m\"Country/Region\"\u001b[0m\u001b[0;34m,\u001b[0m\u001b[0;34m\"UNICEF Region\"\u001b[0m\u001b[0;34m,\u001b[0m\u001b[0;34m\"Indicator\"\u001b[0m\u001b[0;34m,\u001b[0m\u001b[0;34m\"Year\"\u001b[0m\u001b[0;34m,\u001b[0m\u001b[0;34m\"Sex\"\u001b[0m\u001b[0;34m,\u001b[0m\u001b[0;34m\"Age\"\u001b[0m\u001b[0;34m,\u001b[0m\u001b[0;34m\"Value\"\u001b[0m\u001b[0;34m]\u001b[0m\u001b[0;34m]\u001b[0m\u001b[0;34m\u001b[0m\u001b[0;34m\u001b[0m\u001b[0m\n\u001b[1;32m      5\u001b[0m \u001b[0mprint\u001b[0m\u001b[0;34m(\u001b[0m\u001b[0mEpid_DF\u001b[0m\u001b[0;34m.\u001b[0m\u001b[0mshape\u001b[0m\u001b[0;34m)\u001b[0m\u001b[0;34m\u001b[0m\u001b[0;34m\u001b[0m\u001b[0m\n",
      "\u001b[0;32m/opt/conda/lib/python3.7/site-packages/pandas/util/_decorators.py\u001b[0m in \u001b[0;36mwrapper\u001b[0;34m(*args, **kwargs)\u001b[0m\n\u001b[1;32m    309\u001b[0m                     \u001b[0mstacklevel\u001b[0m\u001b[0;34m=\u001b[0m\u001b[0mstacklevel\u001b[0m\u001b[0;34m,\u001b[0m\u001b[0;34m\u001b[0m\u001b[0;34m\u001b[0m\u001b[0m\n\u001b[1;32m    310\u001b[0m                 )\n\u001b[0;32m--> 311\u001b[0;31m             \u001b[0;32mreturn\u001b[0m \u001b[0mfunc\u001b[0m\u001b[0;34m(\u001b[0m\u001b[0;34m*\u001b[0m\u001b[0margs\u001b[0m\u001b[0;34m,\u001b[0m \u001b[0;34m**\u001b[0m\u001b[0mkwargs\u001b[0m\u001b[0;34m)\u001b[0m\u001b[0;34m\u001b[0m\u001b[0;34m\u001b[0m\u001b[0m\n\u001b[0m\u001b[1;32m    312\u001b[0m \u001b[0;34m\u001b[0m\u001b[0m\n\u001b[1;32m    313\u001b[0m         \u001b[0;32mreturn\u001b[0m \u001b[0mwrapper\u001b[0m\u001b[0;34m\u001b[0m\u001b[0;34m\u001b[0m\u001b[0m\n",
      "\u001b[0;32m/opt/conda/lib/python3.7/site-packages/pandas/io/excel/_base.py\u001b[0m in \u001b[0;36mread_excel\u001b[0;34m(io, sheet_name, header, names, index_col, usecols, squeeze, dtype, engine, converters, true_values, false_values, skiprows, nrows, na_values, keep_default_na, na_filter, verbose, parse_dates, date_parser, thousands, comment, skipfooter, convert_float, mangle_dupe_cols, storage_options)\u001b[0m\n\u001b[1;32m    362\u001b[0m     \u001b[0;32mif\u001b[0m \u001b[0;32mnot\u001b[0m \u001b[0misinstance\u001b[0m\u001b[0;34m(\u001b[0m\u001b[0mio\u001b[0m\u001b[0;34m,\u001b[0m \u001b[0mExcelFile\u001b[0m\u001b[0;34m)\u001b[0m\u001b[0;34m:\u001b[0m\u001b[0;34m\u001b[0m\u001b[0;34m\u001b[0m\u001b[0m\n\u001b[1;32m    363\u001b[0m         \u001b[0mshould_close\u001b[0m \u001b[0;34m=\u001b[0m \u001b[0;32mTrue\u001b[0m\u001b[0;34m\u001b[0m\u001b[0;34m\u001b[0m\u001b[0m\n\u001b[0;32m--> 364\u001b[0;31m         \u001b[0mio\u001b[0m \u001b[0;34m=\u001b[0m \u001b[0mExcelFile\u001b[0m\u001b[0;34m(\u001b[0m\u001b[0mio\u001b[0m\u001b[0;34m,\u001b[0m \u001b[0mstorage_options\u001b[0m\u001b[0;34m=\u001b[0m\u001b[0mstorage_options\u001b[0m\u001b[0;34m,\u001b[0m \u001b[0mengine\u001b[0m\u001b[0;34m=\u001b[0m\u001b[0mengine\u001b[0m\u001b[0;34m)\u001b[0m\u001b[0;34m\u001b[0m\u001b[0;34m\u001b[0m\u001b[0m\n\u001b[0m\u001b[1;32m    365\u001b[0m     \u001b[0;32melif\u001b[0m \u001b[0mengine\u001b[0m \u001b[0;32mand\u001b[0m \u001b[0mengine\u001b[0m \u001b[0;34m!=\u001b[0m \u001b[0mio\u001b[0m\u001b[0;34m.\u001b[0m\u001b[0mengine\u001b[0m\u001b[0;34m:\u001b[0m\u001b[0;34m\u001b[0m\u001b[0;34m\u001b[0m\u001b[0m\n\u001b[1;32m    366\u001b[0m         raise ValueError(\n",
      "\u001b[0;32m/opt/conda/lib/python3.7/site-packages/pandas/io/excel/_base.py\u001b[0m in \u001b[0;36m__init__\u001b[0;34m(self, path_or_buffer, engine, storage_options)\u001b[0m\n\u001b[1;32m   1190\u001b[0m             \u001b[0;32melse\u001b[0m\u001b[0;34m:\u001b[0m\u001b[0;34m\u001b[0m\u001b[0;34m\u001b[0m\u001b[0m\n\u001b[1;32m   1191\u001b[0m                 ext = inspect_excel_format(\n\u001b[0;32m-> 1192\u001b[0;31m                     \u001b[0mcontent_or_path\u001b[0m\u001b[0;34m=\u001b[0m\u001b[0mpath_or_buffer\u001b[0m\u001b[0;34m,\u001b[0m \u001b[0mstorage_options\u001b[0m\u001b[0;34m=\u001b[0m\u001b[0mstorage_options\u001b[0m\u001b[0;34m\u001b[0m\u001b[0;34m\u001b[0m\u001b[0m\n\u001b[0m\u001b[1;32m   1193\u001b[0m                 )\n\u001b[1;32m   1194\u001b[0m                 \u001b[0;32mif\u001b[0m \u001b[0mext\u001b[0m \u001b[0;32mis\u001b[0m \u001b[0;32mNone\u001b[0m\u001b[0;34m:\u001b[0m\u001b[0;34m\u001b[0m\u001b[0;34m\u001b[0m\u001b[0m\n",
      "\u001b[0;32m/opt/conda/lib/python3.7/site-packages/pandas/io/excel/_base.py\u001b[0m in \u001b[0;36minspect_excel_format\u001b[0;34m(content_or_path, storage_options)\u001b[0m\n\u001b[1;32m   1069\u001b[0m \u001b[0;34m\u001b[0m\u001b[0m\n\u001b[1;32m   1070\u001b[0m     with get_handle(\n\u001b[0;32m-> 1071\u001b[0;31m         \u001b[0mcontent_or_path\u001b[0m\u001b[0;34m,\u001b[0m \u001b[0;34m\"rb\"\u001b[0m\u001b[0;34m,\u001b[0m \u001b[0mstorage_options\u001b[0m\u001b[0;34m=\u001b[0m\u001b[0mstorage_options\u001b[0m\u001b[0;34m,\u001b[0m \u001b[0mis_text\u001b[0m\u001b[0;34m=\u001b[0m\u001b[0;32mFalse\u001b[0m\u001b[0;34m\u001b[0m\u001b[0;34m\u001b[0m\u001b[0m\n\u001b[0m\u001b[1;32m   1072\u001b[0m     ) as handle:\n\u001b[1;32m   1073\u001b[0m         \u001b[0mstream\u001b[0m \u001b[0;34m=\u001b[0m \u001b[0mhandle\u001b[0m\u001b[0;34m.\u001b[0m\u001b[0mhandle\u001b[0m\u001b[0;34m\u001b[0m\u001b[0;34m\u001b[0m\u001b[0m\n",
      "\u001b[0;32m/opt/conda/lib/python3.7/site-packages/pandas/io/common.py\u001b[0m in \u001b[0;36mget_handle\u001b[0;34m(path_or_buf, mode, encoding, compression, memory_map, is_text, errors, storage_options)\u001b[0m\n\u001b[1;32m    709\u001b[0m         \u001b[0;32melse\u001b[0m\u001b[0;34m:\u001b[0m\u001b[0;34m\u001b[0m\u001b[0;34m\u001b[0m\u001b[0m\n\u001b[1;32m    710\u001b[0m             \u001b[0;31m# Binary mode\u001b[0m\u001b[0;34m\u001b[0m\u001b[0;34m\u001b[0m\u001b[0;34m\u001b[0m\u001b[0m\n\u001b[0;32m--> 711\u001b[0;31m             \u001b[0mhandle\u001b[0m \u001b[0;34m=\u001b[0m \u001b[0mopen\u001b[0m\u001b[0;34m(\u001b[0m\u001b[0mhandle\u001b[0m\u001b[0;34m,\u001b[0m \u001b[0mioargs\u001b[0m\u001b[0;34m.\u001b[0m\u001b[0mmode\u001b[0m\u001b[0;34m)\u001b[0m\u001b[0;34m\u001b[0m\u001b[0;34m\u001b[0m\u001b[0m\n\u001b[0m\u001b[1;32m    712\u001b[0m         \u001b[0mhandles\u001b[0m\u001b[0;34m.\u001b[0m\u001b[0mappend\u001b[0m\u001b[0;34m(\u001b[0m\u001b[0mhandle\u001b[0m\u001b[0;34m)\u001b[0m\u001b[0;34m\u001b[0m\u001b[0;34m\u001b[0m\u001b[0m\n\u001b[1;32m    713\u001b[0m \u001b[0;34m\u001b[0m\u001b[0m\n",
      "\u001b[0;31mFileNotFoundError\u001b[0m: [Errno 2] No such file or directory: 'HIV_Epidemiology_Children_Adolescents_2022.xlsx'"
     ]
    }
   ],
   "source": [
    "Epid_DF=pd.read_excel(\"HIV_Epidemiology_Children_Adolescents_2022.xlsx\", sheet_name=\"Data\",skiprows=1,parse_dates=True)\n",
    "print(Epid_DF.shape)\n",
    "Epid_DF.drop_duplicates(inplace=True)\n",
    "Epid_DF=Epid_DF[[\"Type\",\"Country/Region\",\"UNICEF Region\",\"Indicator\",\"Year\",\"Sex\",\"Age\",\"Value\"]]\n",
    "print(Epid_DF.shape)\n",
    "print(\"Number of Nulls before delete NA\",Epid_DF.isna().sum())\n",
    "Epid_DF.dropna(subset=['Value'], inplace=True)\n",
    "print(\"---------\\n\",\"Number of Nulls after delete NA\",Epid_DF.isna().sum())\n",
    "Epid_DF=Epid_DF.reset_index(drop=True)\n",
    "print(Epid_DF.shape)"
   ]
  },
  {
   "cell_type": "code",
   "execution_count": null,
   "id": "de5d6630",
   "metadata": {
    "papermill": {
     "duration": null,
     "end_time": null,
     "exception": null,
     "start_time": null,
     "status": "pending"
    },
    "tags": []
   },
   "outputs": [],
   "source": [
    "Epid_DF['Value']=Epid_DF['Value'].str.replace(',','')\n",
    "#as some values has \"<\", so we use mean of value for this column\n",
    "Epid_DF['Value']=Epid_DF['Value'].astype(str)\n",
    "for x in range(Epid_DF.shape[0]):\n",
    "         if Epid_DF.loc[x,'Value'][0]== '<':           \n",
    "            Epid_DF.loc[x,'Value']=str(float(Epid_DF.loc[x,'Value'][1:])/2)\n",
    "Epid_DF['Value']=Epid_DF['Value'].astype(float)\n",
    "#it's better to change type category to string, because python will ommit category type in future\n",
    "Epid_DF['Country/Region']=Epid_DF['Country/Region'].astype('string')\n",
    "Epid_DF['UNICEF Region']=Epid_DF['UNICEF Region'].astype('string')\n",
    "Epid_DF['Indicator']=Epid_DF['Indicator'].astype('string')\n",
    "Epid_DF['Sex']=Epid_DF['Sex'].astype('string')\n",
    "Epid_DF['Age']=Epid_DF['Age'].astype('string')\n",
    "Epid_DF['Year1']=pd.to_datetime(Epid_DF['Year'],format=\"%Y\")\n",
    "print(Epid_DF.dtypes)"
   ]
  },
  {
   "cell_type": "code",
   "execution_count": null,
   "id": "cf7ce5ff",
   "metadata": {
    "papermill": {
     "duration": null,
     "end_time": null,
     "exception": null,
     "start_time": null,
     "status": "pending"
    },
    "tags": []
   },
   "outputs": [],
   "source": [
    "#All rows with blank Unicef_Region, Have Type \"Region\". And All region type, have blank Unicef_Region. So, I want to fill all \n",
    "#Blank Unicef Region with a word \"Global\"\n",
    "\n",
    "Epid_DF[\"UNICEF Region\"].fillna(\"Global\", inplace = True)\n",
    "\n",
    "#All rows with \"NA\" Unicef_Region, Have country \"United states\". And All rows with country \"United states\", \n",
    "#have \"NA\" Unicef_Region. So, I want to fill all NA Unicef Region with a word \"United States\"\n",
    "\n",
    "Epid_DF.loc[Epid_DF[\"Country/Region\"]==\"United States\" , 'UNICEF Region']=\"United States\""
   ]
  },
  {
   "cell_type": "code",
   "execution_count": null,
   "id": "88ac8504",
   "metadata": {
    "papermill": {
     "duration": null,
     "end_time": null,
     "exception": null,
     "start_time": null,
     "status": "pending"
    },
    "tags": []
   },
   "outputs": [],
   "source": [
    "Epid_DF_A1=Epid_DF[(Epid_DF[\"Indicator\"]==\"Estimated number of annual AIDS-related deaths\")&\n",
    "                   (Epid_DF[\"UNICEF Region\"]!=\"Global\")&\n",
    "                   (Epid_DF[\"Sex\"]==\"Both\")&\n",
    "                   ((Epid_DF[\"Age\"]==\"Age 0-14\")|(Epid_DF[\"Age\"]==\"Age 15-19\"))\n",
    "                  ]"
   ]
  },
  {
   "cell_type": "code",
   "execution_count": null,
   "id": "0b0a2898",
   "metadata": {
    "papermill": {
     "duration": null,
     "end_time": null,
     "exception": null,
     "start_time": null,
     "status": "pending"
    },
    "tags": []
   },
   "outputs": [],
   "source": [
    "Epid_DF_A2=Epid_DF[(Epid_DF[\"Indicator\"]==\"Estimated number of annual new HIV infections\")&\n",
    "                   (Epid_DF[\"UNICEF Region\"]!=\"Global\")&\n",
    "                   (Epid_DF[\"Sex\"]==\"Both\")&\n",
    "                   ((Epid_DF[\"Age\"]==\"Age 0-14\")|(Epid_DF[\"Age\"]==\"Age 15-19\"))\n",
    "                  ]"
   ]
  },
  {
   "cell_type": "code",
   "execution_count": null,
   "id": "bf719687",
   "metadata": {
    "papermill": {
     "duration": null,
     "end_time": null,
     "exception": null,
     "start_time": null,
     "status": "pending"
    },
    "tags": []
   },
   "outputs": [],
   "source": [
    "Epid_DF_A3=Epid_DF[(Epid_DF[\"Indicator\"]==\"Estimated number of people living with HIV\")&\n",
    "                   (Epid_DF[\"UNICEF Region\"]!=\"Global\")&\n",
    "                   (Epid_DF[\"Sex\"]==\"Both\")&\n",
    "                   ((Epid_DF[\"Age\"]==\"Age 0-14\")|(Epid_DF[\"Age\"]==\"Age 15-19\"))\n",
    "                  ]"
   ]
  },
  {
   "cell_type": "code",
   "execution_count": null,
   "id": "041a05fb",
   "metadata": {
    "papermill": {
     "duration": null,
     "end_time": null,
     "exception": null,
     "start_time": null,
     "status": "pending"
    },
    "tags": []
   },
   "outputs": [],
   "source": [
    "mycrosstab=pd.crosstab(Epid_DF_A1[\"Year1\"],Epid_DF_A1[\"UNICEF Region\"],values=Epid_DF_A1[\"Value\"], aggfunc='mean')\n",
    "import plotly.express as px\n",
    "df = mycrosstab\n",
    "fig = px.area(df, facet_col=\"UNICEF Region\", facet_col_wrap=2)\n",
    "fig.update_layout(title_text=\"Estimated number of annual AIDS-related deaths in each region\")\n",
    "fig.show()"
   ]
  },
  {
   "cell_type": "code",
   "execution_count": null,
   "id": "31787e0e",
   "metadata": {
    "papermill": {
     "duration": null,
     "end_time": null,
     "exception": null,
     "start_time": null,
     "status": "pending"
    },
    "tags": []
   },
   "outputs": [],
   "source": [
    "mycrosstab=pd.crosstab(Epid_DF_A2[\"Year\"],Epid_DF_A2[\"UNICEF Region\"],values=Epid_DF_A2[\"Value\"], aggfunc='mean')\n",
    "df = mycrosstab\n",
    "fig = px.area(df, facet_col=\"UNICEF Region\", facet_col_wrap=2)\n",
    "fig.update_layout(title_text=\"Estimated number of annual new HIV infections in each Region\")\n",
    "fig.show()"
   ]
  },
  {
   "cell_type": "code",
   "execution_count": null,
   "id": "b5eb1f2b",
   "metadata": {
    "papermill": {
     "duration": null,
     "end_time": null,
     "exception": null,
     "start_time": null,
     "status": "pending"
    },
    "tags": []
   },
   "outputs": [],
   "source": [
    "mycrosstab=pd.crosstab(Epid_DF_A3[\"Year1\"],Epid_DF_A3[\"UNICEF Region\"],values=Epid_DF_A3[\"Value\"], aggfunc='mean')\n",
    "import plotly.express as px\n",
    "df = mycrosstab\n",
    "fig = px.area(df, facet_col=\"UNICEF Region\", facet_col_wrap=2)\n",
    "fig.update_layout(title_text=\"Estimated number of people living with HIV in each Region\")\n",
    "fig.show()"
   ]
  },
  {
   "cell_type": "code",
   "execution_count": null,
   "id": "5a4083cb",
   "metadata": {
    "papermill": {
     "duration": null,
     "end_time": null,
     "exception": null,
     "start_time": null,
     "status": "pending"
    },
    "tags": []
   },
   "outputs": [],
   "source": [
    "Epid_DF_A1_Glob=Epid_DF[(Epid_DF[\"Indicator\"]==\"Estimated number of annual AIDS-related deaths\")&\n",
    "                        (Epid_DF[\"UNICEF Region\"]==\"Global\")&\n",
    "                        (Epid_DF[\"Sex\"]==\"Both\")&\n",
    "                        ((Epid_DF[\"Age\"]==\"Age 0-14\")|(Epid_DF[\"Age\"]==\"Age 15-19\"))\n",
    "                       ]\n",
    "x= Epid_DF_A1_Glob.groupby(Epid_DF_A1_Glob[\"Year\"])[\"Value\"].mean()\n",
    "x.plot(kind=\"bar\",color=(0.2, 0.4, 0.6, 0.6))\n",
    "plt.xlabel(\"Year\")\n",
    "plt.ylabel(\"Global Value\")\n",
    "plt.title(\"Estimated number of annual AIDS-related deaths globaly\")"
   ]
  },
  {
   "cell_type": "code",
   "execution_count": null,
   "id": "d8d5f6bf",
   "metadata": {
    "papermill": {
     "duration": null,
     "end_time": null,
     "exception": null,
     "start_time": null,
     "status": "pending"
    },
    "tags": []
   },
   "outputs": [],
   "source": [
    "Epid_DF_A1_Glob=Epid_DF[(Epid_DF[\"Indicator\"]==\"Estimated number of people living with HIV\")&\n",
    "                        (Epid_DF[\"UNICEF Region\"]==\"Global\")&\n",
    "                        (Epid_DF[\"Sex\"]==\"Both\")&\n",
    "                        ((Epid_DF[\"Age\"]==\"Age 0-14\")|(Epid_DF[\"Age\"]==\"Age 15-19\"))\n",
    "                       ]\n",
    "x= Epid_DF_A1_Glob.groupby(Epid_DF_A1_Glob[\"Year\"])[\"Value\"].mean()\n",
    "x.plot(kind=\"bar\",color=(0.2, 0.4, 0.6, 0.6))\n",
    "plt.xlabel(\"Year\")\n",
    "plt.ylabel(\"Global Value\")\n",
    "plt.title(\"Estimated number of people living with HIV globaly\")"
   ]
  },
  {
   "cell_type": "code",
   "execution_count": null,
   "id": "bb46958b",
   "metadata": {
    "papermill": {
     "duration": null,
     "end_time": null,
     "exception": null,
     "start_time": null,
     "status": "pending"
    },
    "tags": []
   },
   "outputs": [],
   "source": [
    "Epid_DF_A1_Glob2=Epid_DF[(Epid_DF[\"Indicator\"]==\"Estimated number of annual AIDS-related deaths\")&\n",
    "                        (Epid_DF[\"UNICEF Region\"]==\"Global\")&\n",
    "                        (Epid_DF[\"Sex\"]!=\"Both\")&\n",
    "                        ((Epid_DF[\"Age\"]==\"Age 0-14\")|(Epid_DF[\"Age\"]==\"Age 15-19\"))\n",
    "                       ]\n",
    "Elem= Epid_DF_A1_Glob2.groupby(['Sex'])[\"Value\"].sum()\n",
    "labels= ['Female', 'Male']\n",
    "colors =[ (1, 0.1, 0.6, 0.6),(0.1, 0.5, 0.9, 0.6)] \n",
    "plt.pie(Elem, labels = labels, autopct = '%1.1f%%',colors = colors) \n",
    "plt.title(\"Estimated number of annual AIDS-related deaths 2000-2021\")\n",
    "plt.show()\n"
   ]
  },
  {
   "cell_type": "code",
   "execution_count": null,
   "id": "ca5d3292",
   "metadata": {
    "papermill": {
     "duration": null,
     "end_time": null,
     "exception": null,
     "start_time": null,
     "status": "pending"
    },
    "tags": []
   },
   "outputs": [],
   "source": [
    "Epid_DF_A1_Glob=Epid_DF[(Epid_DF[\"Indicator\"]==\"Estimated number of annual AIDS-related deaths\")&\n",
    "                        (Epid_DF[\"UNICEF Region\"]==\"Global\")&\n",
    "                        (Epid_DF[\"Sex\"]!=\"Both\")&\n",
    "                        ((Epid_DF[\"Age\"]==\"Age 0-14\")|(Epid_DF[\"Age\"]==\"Age 15-19\"))&\n",
    "                        (Epid_DF[\"Year\"]>=2015)\n",
    "                       ]\n",
    "import plotly.express as px\n",
    "df1=Epid_DF_A1_Glob[Epid_DF_A1_Glob['Sex']==\"Male\"]\n",
    "tempmale=pd.DataFrame(df1.groupby(['Year']).agg({'Value':'sum'}))\n",
    "df2=Epid_DF_A1_Glob[Epid_DF_A1_Glob['Sex']==\"Female\"]\n",
    "tempfemale=pd.DataFrame(df2.groupby(['Year']).agg({'Value':'sum'}))\n",
    "final=pd.concat([tempmale,tempfemale],axis=1)\n",
    "final.columns=['Male','Female']\n",
    "sumcolumns=final['Male']+final['Female']\n",
    "fig=px.funnel(final, title=\"Estimated Annual AIDs Related Death by Sex 2015-2021\")\n",
    "fig.show()"
   ]
  },
  {
   "cell_type": "code",
   "execution_count": null,
   "id": "a53d50bf",
   "metadata": {
    "papermill": {
     "duration": null,
     "end_time": null,
     "exception": null,
     "start_time": null,
     "status": "pending"
    },
    "tags": []
   },
   "outputs": [],
   "source": [
    "import matplotlib.pyplot as plt\n",
    "Epid_DF_A3_Glob=Epid_DF[((Epid_DF[\"Indicator\"]==\"Estimated number of annual AIDS-related deaths\")|\n",
    "                         (Epid_DF[\"Indicator\"]==\"Estimated number of people living with HIV\"))&\n",
    "                        (Epid_DF[\"UNICEF Region\"]==\"Global\")&\n",
    "                        (Epid_DF[\"Sex\"]==\"Both\")&\n",
    "                        ((Epid_DF[\"Age\"]==\"Age 0-14\")|(Epid_DF[\"Age\"]==\"Age 15-19\"))\n",
    "                       ]\n",
    "mycrosstab=pd.crosstab(Epid_DF_A3_Glob[\"Year\"],Epid_DF_A3_Glob[\"Indicator\"],values=Epid_DF_A3_Glob[\"Value\"], aggfunc='mean')\n",
    "mycrosstab.plot(kind=\"bar\")\n",
    "plt.xlabel(\"Year\")\n",
    "plt.ylabel(\"Value\")\n",
    "plt.title(\"People that have HIV vs People died cuase of HIV\")\n",
    "plt.show()"
   ]
  },
  {
   "cell_type": "code",
   "execution_count": null,
   "id": "0976eb0f",
   "metadata": {
    "papermill": {
     "duration": null,
     "end_time": null,
     "exception": null,
     "start_time": null,
     "status": "pending"
    },
    "tags": []
   },
   "outputs": [],
   "source": [
    "#check relationship between KPIs in each UNICEF Region\n",
    "Epid_DF_A3_Glob=Epid_DF[(Epid_DF[\"UNICEF Region\"]==\"Global\")&\n",
    "                        (Epid_DF[\"Sex\"]==\"Both\")&\n",
    "                        ((Epid_DF[\"Age\"]==\"Age 0-14\")|(Epid_DF[\"Age\"]==\"Age 15-19\"))\n",
    "                       ]\n",
    "mycrosstab=pd.crosstab(Epid_DF_A3_Glob[\"Year\"],Epid_DF_A3_Glob[\"Indicator\"],values=Epid_DF_A3_Glob[\"Value\"], aggfunc='sum')\n",
    "mycrosstab.columns=[\"incidence rate\",\"annual deaths\",\"annual new infection\",\"people with HIV\",\"annual death rate\"]\n",
    "se.heatmap(mycrosstab.corr(method=\"pearson\"), annot=True)\n",
    "class color:\n",
    "   PURPLE = '\\033[95m'\n",
    "   CYAN = '\\033[96m'\n",
    "   DARKCYAN = '\\033[36m'\n",
    "   BLUE = '\\033[94m'\n",
    "   GREEN = '\\033[92m'\n",
    "   YELLOW = '\\033[93m'\n",
    "   RED = '\\033[91m'\n",
    "   BOLD = '\\033[1m'\n",
    "   UNDERLINE = '\\033[4m'\n",
    "   END = '\\033[0m'\n",
    "print(color.BOLD+ \" incidence rate:\"+color.END+color.RED+\"Estimated incidence rate(new HIV infection per 1000 uinnfected population)\\n\"+color.END,\n",
    "      color.BOLD+ \"annual deaths:\"+color.END+color.RED+\"Estimated number of annual AIDS-related deaths\\n\"+color.END,\n",
    "      color.BOLD+\"annual new infection:\"+color.END+color.RED+\"Estimated number of annual new HIV infections\\n\"+color.END,\n",
    "      color.BOLD+\"peaple with HIV:\"+color.END+color.RED+\"Estimated number of people with HIV\\n\"+color.END,\n",
    "      color.BOLD+\"annual death rate:\"+color.END+color.RED+\"Estimated rate of annual AIDS-related deaths(per 100000 population)\"+color.END)"
   ]
  },
  {
   "cell_type": "code",
   "execution_count": null,
   "id": "bec673b5",
   "metadata": {
    "papermill": {
     "duration": null,
     "end_time": null,
     "exception": null,
     "start_time": null,
     "status": "pending"
    },
    "tags": []
   },
   "outputs": [],
   "source": [
    "#-------------------------------------------------------------------------------------------------------"
   ]
  },
  {
   "cell_type": "code",
   "execution_count": null,
   "id": "95d0e8de",
   "metadata": {
    "papermill": {
     "duration": null,
     "end_time": null,
     "exception": null,
     "start_time": null,
     "status": "pending"
    },
    "tags": []
   },
   "outputs": [],
   "source": [
    "preAdo_DF=pd.read_excel(\"G:\\Contech\\Thired Term\\Project\\HIV_Prevention_Adolescents_2022.xlsx\", sheet_name=\"Data\",skiprows=1,parse_dates=True)\n",
    "print(preAdo_DF.shape)\n",
    "preAdo_DF.drop_duplicates(inplace=True)\n",
    "preAdo_DF=preAdo_DF[[\"ISO3\",\"Country\",\"UNICEF Region\",\"Indicator\",\"Year\",\"Sex\",\"Age\",\"DISAGG_CATEGORY\",\"DISAGG\",\"Value\"]]\n",
    "print(preAdo_DF.shape)\n",
    "print(\"Number of Nulls before delete NA\",preAdo_DF.isna().sum())\n",
    "#As we don't have any nulls, so we just go ahead and do not need to remove nulls\n"
   ]
  },
  {
   "cell_type": "code",
   "execution_count": null,
   "id": "3d2cc0e7",
   "metadata": {
    "papermill": {
     "duration": null,
     "end_time": null,
     "exception": null,
     "start_time": null,
     "status": "pending"
    },
    "tags": []
   },
   "outputs": [],
   "source": [
    "import plotly.express as px\n",
    "preAdo_DF_A2=preAdo_DF[(preAdo_DF[\"UNICEF Region\"]==\"West and Central Africa\")&\n",
    "                            (preAdo_DF[\"Indicator\"]==\"Per cent with comprehensive, correct knowledge of HIV\")&\n",
    "                            ((preAdo_DF[\"Year\"]==2021) | (preAdo_DF[\"Year\"]==2020))&\n",
    "                            (preAdo_DF[\"DISAGG_CATEGORY\"]==\"Age\")&\n",
    "                            ((preAdo_DF[\"DISAGG\"]==\"15-19\")|(preAdo_DF[\"DISAGG\"]==\"20-24\"))\n",
    "                           ]\n",
    "df = preAdo_DF_A2\n",
    "fig = px.sunburst(df, path=['Year', 'Sex','DISAGG'], values='Value',\n",
    "                  color='Value', hover_data=['Value'],\n",
    "                  color_continuous_scale='RdBu',\n",
    "                  color_continuous_midpoint=np.average(df['Value'], weights=df['Value']),\n",
    "                  title='Age of Percent with comprehensive, correct knowledge of HIV'\n",
    "                 )\n",
    "fig.show()"
   ]
  },
  {
   "cell_type": "code",
   "execution_count": null,
   "id": "9c6713f8",
   "metadata": {
    "papermill": {
     "duration": null,
     "end_time": null,
     "exception": null,
     "start_time": null,
     "status": "pending"
    },
    "tags": []
   },
   "outputs": [],
   "source": [
    "import plotly.express as px\n",
    "preAdo_DF_A1=preAdo_DF[(preAdo_DF[\"UNICEF Region\"]==\"West and Central Africa\")&\n",
    "                            (preAdo_DF[\"Indicator\"]==\"Per cent with comprehensive, correct knowledge of HIV\")&\n",
    "                            ((preAdo_DF[\"Year\"]==2021) | (preAdo_DF[\"Year\"]==2020))&\n",
    "                            (preAdo_DF[\"DISAGG_CATEGORY\"]==\"Education\")                            \n",
    "                           ]\n",
    "df = preAdo_DF_A1\n",
    "fig = px.sunburst(df, path=['Year', 'Sex','DISAGG'], values='Value',\n",
    "                  color='Value', hover_data=['Value'],\n",
    "                  color_continuous_scale='RdBu',\n",
    "                  color_continuous_midpoint=np.average(df['Value'], weights=df['Value']),\n",
    "                  title=\"Education of Percent with comprehensive, correct knowledge of HIV\"\n",
    "                 )\n",
    "fig.show()"
   ]
  },
  {
   "cell_type": "code",
   "execution_count": null,
   "id": "71b5e107",
   "metadata": {
    "papermill": {
     "duration": null,
     "end_time": null,
     "exception": null,
     "start_time": null,
     "status": "pending"
    },
    "tags": []
   },
   "outputs": [],
   "source": [
    "import plotly.express as px\n",
    "preAdo_DF_A1=preAdo_DF[(preAdo_DF[\"UNICEF Region\"]==\"West and Central Africa\")&\n",
    "                            (preAdo_DF[\"Indicator\"]==\"Per cent with comprehensive, correct knowledge of HIV\")&\n",
    "                            ((preAdo_DF[\"Year\"]==2021) | (preAdo_DF[\"Year\"]==2020))&\n",
    "                            (preAdo_DF[\"DISAGG_CATEGORY\"]==\"Marital status\")                            \n",
    "                           ]\n",
    "df = preAdo_DF_A1\n",
    "fig = px.sunburst(df, path=['Year', 'Sex','DISAGG'], values='Value',\n",
    "                  color='Value', hover_data=['Value'],\n",
    "                  color_continuous_scale='RdBu',\n",
    "                  color_continuous_midpoint=np.average(df['Value'], weights=df['Value']),\n",
    "                  title=\"Marital status of Percent with comprehensive, correct knowledge of HIV\"\n",
    "                 )\n",
    "fig.show()"
   ]
  },
  {
   "cell_type": "code",
   "execution_count": null,
   "id": "f4301da9",
   "metadata": {
    "papermill": {
     "duration": null,
     "end_time": null,
     "exception": null,
     "start_time": null,
     "status": "pending"
    },
    "tags": []
   },
   "outputs": [],
   "source": [
    "import plotly.express as px\n",
    "preAdo_DF_A1=preAdo_DF[(preAdo_DF[\"UNICEF Region\"]==\"West and Central Africa\")&\n",
    "                            (preAdo_DF[\"Indicator\"]==\"Per cent with comprehensive, correct knowledge of HIV\")&\n",
    "                            ((preAdo_DF[\"Year\"]==2021) | (preAdo_DF[\"Year\"]==2020))&\n",
    "                            (preAdo_DF[\"DISAGG_CATEGORY\"]==\"Residence\")                            \n",
    "                           ]\n",
    "df = preAdo_DF_A1\n",
    "fig = px.sunburst(df, path=['Year', 'Sex','DISAGG'], values='Value',\n",
    "                  color='Value', hover_data=['Value'],\n",
    "                  color_continuous_scale='RdBu',\n",
    "                  color_continuous_midpoint=np.average(df['Value'], weights=df['Value']),\n",
    "                  title=\"Residence of Percent with comprehensive, correct knowledge of HIV\"\n",
    "                 )\n",
    "fig.show()"
   ]
  },
  {
   "cell_type": "code",
   "execution_count": null,
   "id": "2c7e0950",
   "metadata": {
    "papermill": {
     "duration": null,
     "end_time": null,
     "exception": null,
     "start_time": null,
     "status": "pending"
    },
    "tags": []
   },
   "outputs": [],
   "source": [
    "import plotly.express as px\n",
    "preAdo_DF_A1=preAdo_DF[(preAdo_DF[\"UNICEF Region\"]==\"West and Central Africa\")&\n",
    "                            (preAdo_DF[\"Indicator\"]==\"Per cent with comprehensive, correct knowledge of HIV\")&\n",
    "                            ((preAdo_DF[\"Year\"]==2021) | (preAdo_DF[\"Year\"]==2020))&\n",
    "                            (preAdo_DF[\"DISAGG_CATEGORY\"]==\"Wealth quintile\")                            \n",
    "                           ]\n",
    "df = preAdo_DF_A1\n",
    "fig = px.sunburst(df, path=['Year', 'Sex','DISAGG'], values='Value',\n",
    "                  color='Value', hover_data=['Value'],\n",
    "                  color_continuous_scale='RdBu',\n",
    "                  color_continuous_midpoint=np.average(df['Value'], weights=df['Value']),\n",
    "                  title=\"Wealth quintile of Percent with comprehensive, correct knowledge of HIV\"\n",
    "                 )\n",
    "fig.show()"
   ]
  },
  {
   "cell_type": "code",
   "execution_count": null,
   "id": "00f816c0",
   "metadata": {
    "papermill": {
     "duration": null,
     "end_time": null,
     "exception": null,
     "start_time": null,
     "status": "pending"
    },
    "tags": []
   },
   "outputs": [],
   "source": [
    "#-------------------------------------------------------------------------------"
   ]
  },
  {
   "cell_type": "code",
   "execution_count": null,
   "id": "f63f4e6b",
   "metadata": {
    "papermill": {
     "duration": null,
     "end_time": null,
     "exception": null,
     "start_time": null,
     "status": "pending"
    },
    "tags": []
   },
   "outputs": [],
   "source": [
    "#Corr between Education and Annual Death\n",
    "DF1= preAdo_DF[(preAdo_DF[\"UNICEF Region\"]==\"West and Central Africa\")&\n",
    "               (preAdo_DF[\"Indicator\"]==\"Per cent with comprehensive, correct knowledge of HIV\")&                            \n",
    "               (preAdo_DF[\"Sex\"]!=\"Both\")&\n",
    "               (preAdo_DF[\"DISAGG_CATEGORY\"]==\"Age\")&\n",
    "               (preAdo_DF[\"DISAGG\"]==\"15-19\")\n",
    "              ]\n",
    "DF2= Epid_DF[(Epid_DF[\"UNICEF Region\"]==\"West and Central Africa\")&\n",
    "             (Epid_DF[\"Indicator\"]==\"Estimated number of annual AIDS-related deaths\")&       \n",
    "             (Epid_DF[\"Sex\"]!=\"Both\")&\n",
    "             (Epid_DF[\"Age\"]==\"Age 15-19\")\n",
    "            ]\n",
    "Merge=pd.merge(DF1,DF2,on=['Year','Sex'])\n",
    "Merge=Merge[['Value_x','Value_y']]\n",
    "Merge.columns=[\"Education\",\"Death\"]\n",
    "Cor=Merge.corr(method='pearson')\n",
    "print(Cor)\n",
    "#As we can see, The Education has Direct Effect on Number of Annual AIDS-related deaths"
   ]
  },
  {
   "cell_type": "code",
   "execution_count": null,
   "id": "761d22d6",
   "metadata": {
    "papermill": {
     "duration": null,
     "end_time": null,
     "exception": null,
     "start_time": null,
     "status": "pending"
    },
    "tags": []
   },
   "outputs": [],
   "source": []
  }
 ],
 "metadata": {
  "kaggle": {
   "accelerator": "none",
   "dataSources": [
    {
     "datasetId": 3131880,
     "sourceId": 5406042,
     "sourceType": "datasetVersion"
    },
    {
     "datasetId": 5373635,
     "sourceId": 8932364,
     "sourceType": "datasetVersion"
    }
   ],
   "dockerImageVersionId": 30458,
   "isGpuEnabled": false,
   "isInternetEnabled": true,
   "language": "python",
   "sourceType": "notebook"
  },
  "kernelspec": {
   "display_name": "Python 3",
   "language": "python",
   "name": "python3"
  },
  "language_info": {
   "codemirror_mode": {
    "name": "ipython",
    "version": 3
   },
   "file_extension": ".py",
   "mimetype": "text/x-python",
   "name": "python",
   "nbconvert_exporter": "python",
   "pygments_lexer": "ipython3",
   "version": "3.7.12"
  },
  "papermill": {
   "default_parameters": {},
   "duration": 13.346159,
   "end_time": "2024-07-11T18:06:12.982341",
   "environment_variables": {},
   "exception": true,
   "input_path": "__notebook__.ipynb",
   "output_path": "__notebook__.ipynb",
   "parameters": {},
   "start_time": "2024-07-11T18:05:59.636182",
   "version": "2.4.0"
  }
 },
 "nbformat": 4,
 "nbformat_minor": 5
}
